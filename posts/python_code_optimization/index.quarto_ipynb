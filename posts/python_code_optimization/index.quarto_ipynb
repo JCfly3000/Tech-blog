{
  "cells": [
    {
      "cell_type": "markdown",
      "metadata": {},
      "source": [
        "---\n",
        "title: \"Python code optimization with ruff\"\n",
        "author: \"Tony D\"\n",
        "execute:\n",
        "  warning: false\n",
        "  error: false\n",
        "\n",
        "  \n",
        "date: \"2025-03-14\"\n",
        "categories: \n",
        "  - Tool\n",
        "  - Python\n",
        "  \n",
        "image: \"images.png\"\n",
        "jupyter: python3\n",
        "---\n",
        "\n",
        "-   ⚡️ 10-100x faster than existing linters (like Flake8) and formatters (like Black)\n",
        "\n",
        "-   🐍 Installable via `pip`\n",
        "\n",
        "-   🛠️ `pyproject.toml` support\n",
        "\n",
        "![](images/clipboard-548506117.png)\n",
        "\n",
        "# install ruff\n",
        "\n",
        "``` {.python filename=\"playing.py\"}\n",
        "#| eval: false\n",
        "pip install ruff\n",
        "```\n",
        "\n",
        "# check code\n",
        "\n",
        "before correct python file\n",
        "\n",
        "``` {.python filename=\"playing.py\"}\n",
        "\n",
        "\n",
        "\n",
        "\n",
        "\n",
        "import pandas\n",
        "\n",
        "from importlib.metadata import version\n",
        "\n",
        "print('test.py is running')\n",
        "print('version is :')\n",
        "print(version('rich'))\n",
        "\n",
        "a=3+1\n",
        "\n",
        "\n",
        "a\n",
        "\n",
        "```"
      ],
      "id": "db5ec20e"
    },
    {
      "cell_type": "code",
      "metadata": {
        "filename": "Terminal"
      },
      "source": [
        "!ruff check playing.py"
      ],
      "id": "9192c7a4",
      "execution_count": null,
      "outputs": []
    },
    {
      "cell_type": "markdown",
      "metadata": {},
      "source": [
        "# fix code"
      ],
      "id": "da78e658"
    },
    {
      "cell_type": "code",
      "metadata": {
        "filename": "Terminal"
      },
      "source": [
        "#| eval: false\n",
        "!ruff check playing.py --fix"
      ],
      "id": "b132b6fe",
      "execution_count": null,
      "outputs": []
    },
    {
      "cell_type": "markdown",
      "metadata": {},
      "source": [
        "after fix"
      ],
      "id": "acdd59f0"
    },
    {
      "cell_type": "code",
      "metadata": {
        "filename": "Terminal"
      },
      "source": [
        "#| eval: false\n",
        "\n",
        "\n",
        "\n",
        "\n",
        "\n",
        "import pandas\n",
        "\n",
        "from importlib.metadata import version\n",
        "\n",
        "print('test.py is running')\n",
        "print('version is :')\n",
        "print(version('rich'))\n",
        "\n",
        "a=3+1\n",
        "\n",
        "\n",
        "a\n"
      ],
      "id": "c772c9b4",
      "execution_count": null,
      "outputs": []
    },
    {
      "cell_type": "markdown",
      "metadata": {},
      "source": [
        "# format code"
      ],
      "id": "c04fc110"
    },
    {
      "cell_type": "code",
      "metadata": {
        "filename": "Terminal"
      },
      "source": [
        "#| eval: false\n",
        "!ruff format playing.py"
      ],
      "id": "9b1f5376",
      "execution_count": null,
      "outputs": []
    },
    {
      "cell_type": "markdown",
      "metadata": {},
      "source": [
        "after format"
      ],
      "id": "f0d87090"
    },
    {
      "cell_type": "code",
      "metadata": {
        "filename": "Terminal"
      },
      "source": [
        "#| eval: false\n",
        "\n",
        "\n",
        "\n",
        "\n",
        "\n",
        "import pandas\n",
        "\n",
        "from importlib.metadata import version\n",
        "\n",
        "print('test.py is running')\n",
        "print('version is :')\n",
        "print(version('rich'))\n",
        "\n",
        "a=3+1\n",
        "\n",
        "\n",
        "a\n"
      ],
      "id": "ffb6a792",
      "execution_count": null,
      "outputs": []
    },
    {
      "cell_type": "markdown",
      "metadata": {},
      "source": [
        "# add ruff as extension in positron\n",
        "\n",
        "![](images/my screenshots 1.png)\n",
        "\n",
        "# using ruff on .qmd file\n",
        "\n",
        "ruff only work on .py file, So if want to use ruff to check .qmd file then it need to convert to .py first.\n",
        "\n",
        "## convert .qmd to .py"
      ],
      "id": "578db6a7"
    },
    {
      "cell_type": "code",
      "metadata": {
        "filename": "Terminal"
      },
      "source": [
        "#| eval: false\n",
        "quarto convert index.qmd    # → index.ipynb"
      ],
      "id": "53e2a1dd",
      "execution_count": null,
      "outputs": []
    },
    {
      "cell_type": "code",
      "metadata": {
        "filename": "Terminal"
      },
      "source": [
        "#| eval: false\n",
        "!jupyter nbconvert --to python index.ipynb    # → index.py"
      ],
      "id": "3ab9e302",
      "execution_count": null,
      "outputs": []
    },
    {
      "cell_type": "markdown",
      "metadata": {},
      "source": [
        "## check .py with ruff"
      ],
      "id": "8c8ee5c1"
    },
    {
      "cell_type": "code",
      "metadata": {
        "filename": "Terminal"
      },
      "source": [
        "#| eval: false\n",
        "!ruff check index.py"
      ],
      "id": "1ed9e049",
      "execution_count": null,
      "outputs": []
    },
    {
      "cell_type": "markdown",
      "metadata": {},
      "source": [
        "# reference:\n",
        "\n",
        "https://github.com/astral-sh/ruff"
      ],
      "id": "3456a4c3"
    }
  ],
  "metadata": {
    "kernelspec": {
      "name": "python3",
      "language": "python",
      "display_name": "Python 3 (ipykernel)",
      "path": "/Library/Frameworks/Python.framework/Versions/3.13/share/jupyter/kernels/python3"
    }
  },
  "nbformat": 4,
  "nbformat_minor": 5
}