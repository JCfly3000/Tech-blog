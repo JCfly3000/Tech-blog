{
  "cells": [
    {
      "cell_type": "markdown",
      "metadata": {},
      "source": [
        "---\n",
        "title: \"Python code optimization with ruff\"\n",
        "author: \"Tony D\"\n",
        "execute:\n",
        "  warning: false\n",
        "  error: false\n",
        "\n",
        "  \n",
        "date: \"2025-03-14\"\n",
        "categories: \n",
        "  - Tool\n",
        "  - Python\n",
        "  \n",
        "image: \"images.png\"\n",
        "jupyter: python3\n",
        "---\n",
        "\n",
        "-   ⚡️ 10-100x faster than existing linters (like Flake8) and formatters (like Black)\n",
        "\n",
        "-   🐍 Installable via `pip`\n",
        "\n",
        "-   🛠️ `pyproject.toml` support\n",
        "\n",
        "![](images/clipboard-548506117.png)\n",
        "\n",
        "# install ruff\n",
        "\n",
        "``` {.python filename=\"playing.py\"}\n",
        "#| eval: false\n",
        "pip install ruff\n",
        "```\n",
        "\n",
        "# check code\n",
        "\n",
        "before correct python file\n",
        "\n",
        "``` {.python filename=\"playing.py\"}\n",
        "\n",
        "\n",
        "\n",
        "\n",
        "\n",
        "import pandas\n",
        "\n",
        "from importlib.metadata import version\n",
        "\n",
        "print('test.py is running')\n",
        "print('version is :')\n",
        "print(version('rich'))\n",
        "\n",
        "a=3+1\n",
        "\n",
        "\n",
        "a\n",
        "\n",
        "```"
      ],
      "id": "ae3b9e86"
    },
    {
      "cell_type": "code",
      "metadata": {
        "filename": "Terminal"
      },
      "source": [
        "!ruff check playing.py"
      ],
      "id": "443d1814",
      "execution_count": null,
      "outputs": []
    },
    {
      "cell_type": "markdown",
      "metadata": {},
      "source": [
        "# fix code"
      ],
      "id": "02d5b03c"
    },
    {
      "cell_type": "code",
      "metadata": {
        "filename": "Terminal"
      },
      "source": [
        "#| eval: false\n",
        "!ruff check playing.py --fix"
      ],
      "id": "b0e53dcb",
      "execution_count": null,
      "outputs": []
    },
    {
      "cell_type": "markdown",
      "metadata": {},
      "source": [
        "after fix"
      ],
      "id": "82bd2167"
    },
    {
      "cell_type": "code",
      "metadata": {
        "filename": "Terminal"
      },
      "source": [
        "#| eval: false\n",
        "\n",
        "\n",
        "\n",
        "\n",
        "\n",
        "import pandas\n",
        "\n",
        "from importlib.metadata import version\n",
        "\n",
        "print('test.py is running')\n",
        "print('version is :')\n",
        "print(version('rich'))\n",
        "\n",
        "a=3+1\n",
        "\n",
        "\n",
        "a\n"
      ],
      "id": "94e14ff1",
      "execution_count": null,
      "outputs": []
    },
    {
      "cell_type": "markdown",
      "metadata": {},
      "source": [
        "# format code"
      ],
      "id": "ecee4552"
    },
    {
      "cell_type": "code",
      "metadata": {
        "filename": "Terminal"
      },
      "source": [
        "#| eval: false\n",
        "!ruff format playing.py"
      ],
      "id": "409d6494",
      "execution_count": null,
      "outputs": []
    },
    {
      "cell_type": "markdown",
      "metadata": {},
      "source": [
        "after format"
      ],
      "id": "3c4459d5"
    },
    {
      "cell_type": "code",
      "metadata": {
        "filename": "Terminal"
      },
      "source": [
        "#| eval: false\n",
        "\n",
        "\n",
        "\n",
        "\n",
        "\n",
        "import pandas\n",
        "\n",
        "from importlib.metadata import version\n",
        "\n",
        "print('test.py is running')\n",
        "print('version is :')\n",
        "print(version('rich'))\n",
        "\n",
        "a=3+1\n",
        "\n",
        "\n",
        "a\n"
      ],
      "id": "e2658d48",
      "execution_count": null,
      "outputs": []
    },
    {
      "cell_type": "markdown",
      "metadata": {},
      "source": [
        "# add ruff as extension in positron\n",
        "\n",
        "![](images/my screenshots 1.png)\n",
        "\n",
        "# using ruff on .qmd file\n",
        "\n",
        "ruff only work on .py file, So if want to use ruff to check .qmd file then it need to convert to .py first.\n",
        "\n",
        "## convert .qmd to .py"
      ],
      "id": "70a76c6f"
    },
    {
      "cell_type": "code",
      "metadata": {
        "filename": "Terminal"
      },
      "source": [
        "#| eval: false\n",
        "quarto convert index.qmd    # → index.ipynb"
      ],
      "id": "1e9c2412",
      "execution_count": null,
      "outputs": []
    },
    {
      "cell_type": "code",
      "metadata": {
        "filename": "Terminal"
      },
      "source": [
        "#| eval: false\n",
        "!jupyter nbconvert --to python index.ipynb    # → index.py"
      ],
      "id": "113339a2",
      "execution_count": null,
      "outputs": []
    },
    {
      "cell_type": "markdown",
      "metadata": {},
      "source": [
        "## check .py with ruff"
      ],
      "id": "68d10071"
    },
    {
      "cell_type": "code",
      "metadata": {
        "filename": "Terminal"
      },
      "source": [
        "#| eval: false\n",
        "!ruff check index.py"
      ],
      "id": "48de550c",
      "execution_count": null,
      "outputs": []
    },
    {
      "cell_type": "markdown",
      "metadata": {},
      "source": [
        "# reference:\n",
        "\n",
        "https://github.com/astral-sh/ruff"
      ],
      "id": "1cc8b813"
    }
  ],
  "metadata": {
    "kernelspec": {
      "name": "python3",
      "language": "python",
      "display_name": "Python 3 (ipykernel)",
      "path": "/Library/Frameworks/Python.framework/Versions/3.13/share/jupyter/kernels/python3"
    }
  },
  "nbformat": 4,
  "nbformat_minor": 5
}