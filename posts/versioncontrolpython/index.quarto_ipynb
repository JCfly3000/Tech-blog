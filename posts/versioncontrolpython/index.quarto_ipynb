{
  "cells": [
    {
      "cell_type": "markdown",
      "metadata": {},
      "source": [
        "---\n",
        "title: \"Version control for Python with uv\"\n",
        "\n",
        "author: \"Tony D\"\n",
        "execute:\n",
        "  warning: false\n",
        "  error: false\n",
        "\n",
        "  \n",
        "date: \"2025-03-14\"\n",
        "categories: \n",
        "  - Tool\n",
        "  - Python\n",
        "  \n",
        "image: \"images.png\"\n",
        "\n",
        "jupyter: python3\n",
        "---\n",
        "\n",
        "-   🚀 A single tool to replace `pip`, `pip-tools`, `pipx`, `poetry`, `pyenv`, `twine`, `virtualenv`, and more.\n",
        "\n",
        "-   ⚡️ [10-100x faster](https://github.com/astral-sh/uv/blob/main/BENCHMARKS.md) than `pip`.\n",
        "\n",
        "-   🗂️ Provides [comprehensive project management](https://github.com/astral-sh/uv?tab=readme-ov-file#projects), with a [universal lockfile](https://docs.astral.sh/uv/concepts/projects/layout#the-lockfile).\n",
        "\n",
        "![](images/clipboard-203636132.png)\n",
        "\n",
        "# install"
      ],
      "id": "e5719269"
    },
    {
      "cell_type": "code",
      "metadata": {},
      "source": [
        "#| eval: false\n",
        "!pip install uv"
      ],
      "id": "9c40b25c",
      "execution_count": null,
      "outputs": []
    },
    {
      "cell_type": "markdown",
      "metadata": {},
      "source": [
        "# create project in current folder"
      ],
      "id": "fa70721e"
    },
    {
      "cell_type": "code",
      "metadata": {},
      "source": [
        "#| eval: false\n",
        "!uv init"
      ],
      "id": "992bc919",
      "execution_count": null,
      "outputs": []
    },
    {
      "cell_type": "markdown",
      "metadata": {},
      "source": [
        "# show download python version\n",
        "\n",
        "\n",
        "# chose python version"
      ],
      "id": "817dd02e"
    },
    {
      "cell_type": "code",
      "metadata": {},
      "source": [
        "#| eval: false\n",
        "!uv python pin 3.13"
      ],
      "id": "92495416",
      "execution_count": null,
      "outputs": []
    },
    {
      "cell_type": "markdown",
      "metadata": {},
      "source": [
        "# show all python include non download version "
      ],
      "id": "a591766b"
    },
    {
      "cell_type": "code",
      "metadata": {},
      "source": [
        "!uv python list"
      ],
      "id": "54f619bb",
      "execution_count": null,
      "outputs": []
    },
    {
      "cell_type": "markdown",
      "metadata": {},
      "source": [
        "# download python version if not download"
      ],
      "id": "ec200c97"
    },
    {
      "cell_type": "code",
      "metadata": {},
      "source": [
        "#| eval: false\n",
        "!uv python install cpython-3.14.0"
      ],
      "id": "9e7ce484",
      "execution_count": null,
      "outputs": []
    },
    {
      "cell_type": "markdown",
      "metadata": {},
      "source": [
        "# install pacakge"
      ],
      "id": "7268c1b8"
    },
    {
      "cell_type": "code",
      "metadata": {},
      "source": [
        "#| eval: false\n",
        "!uv add siuba"
      ],
      "id": "474d00c1",
      "execution_count": null,
      "outputs": []
    },
    {
      "cell_type": "markdown",
      "metadata": {},
      "source": [
        "# show pacakge"
      ],
      "id": "ff731df5"
    },
    {
      "cell_type": "code",
      "metadata": {},
      "source": [
        "#| eval: false\n",
        "!uv tree"
      ],
      "id": "f025b69b",
      "execution_count": null,
      "outputs": []
    },
    {
      "cell_type": "markdown",
      "metadata": {},
      "source": [
        "# delete pacakge"
      ],
      "id": "bf7c54b4"
    },
    {
      "cell_type": "code",
      "metadata": {},
      "source": [
        "#| eval: false\n",
        "!uv remove rich"
      ],
      "id": "a3ebfe1f",
      "execution_count": null,
      "outputs": []
    },
    {
      "cell_type": "markdown",
      "metadata": {},
      "source": [
        "# update lock file"
      ],
      "id": "2a6e2fef"
    },
    {
      "cell_type": "code",
      "metadata": {},
      "source": [
        "#| eval: false\n",
        "!uv lock --upgrade"
      ],
      "id": "cd1bacf9",
      "execution_count": null,
      "outputs": []
    },
    {
      "cell_type": "markdown",
      "metadata": {},
      "source": [
        "# Locking requirements"
      ],
      "id": "27d847a0"
    },
    {
      "cell_type": "code",
      "metadata": {},
      "source": [
        "#| eval: false\n",
        "uv pip compile pyproject.toml -o requirements.txt"
      ],
      "id": "97956aae",
      "execution_count": null,
      "outputs": []
    },
    {
      "cell_type": "markdown",
      "metadata": {},
      "source": [
        "# check lock file and current environment"
      ],
      "id": "058434a8"
    },
    {
      "cell_type": "code",
      "metadata": {},
      "source": [
        "#| eval: false\n",
        "!uv lock --check"
      ],
      "id": "41d631be",
      "execution_count": null,
      "outputs": []
    },
    {
      "cell_type": "markdown",
      "metadata": {},
      "source": [
        "# Sync the project's dependencies with the environment,it will add packages to the environment from toml file."
      ],
      "id": "a4711f96"
    },
    {
      "cell_type": "code",
      "metadata": {},
      "source": [
        "#| eval: false\n",
        "!uv sync"
      ],
      "id": "b8880db5",
      "execution_count": null,
      "outputs": []
    },
    {
      "cell_type": "markdown",
      "metadata": {},
      "source": [
        "# using uv with script header\n",
        "\n",
        "\n",
        "## there is no rich package in python"
      ],
      "id": "3e8c0730"
    },
    {
      "cell_type": "code",
      "metadata": {},
      "source": [
        "#| eval: false\n",
        "try:\n",
        "    import rich\n",
        "    print('pacakge installed')\n",
        "except ImportError as e:\n",
        "    print('pacakge not installed')\n",
        "    pass  # module doesn't exist, deal with it."
      ],
      "id": "9d2434a6",
      "execution_count": null,
      "outputs": []
    },
    {
      "cell_type": "markdown",
      "metadata": {},
      "source": [
        "## but can add rich package in script\n",
        "\n",
        "```{.python file.name='test.py'}\n",
        "#| eval: false\n",
        "\n",
        "# /// script\n",
        "# requires-python = \">=3.12\"\n",
        "# dependencies = [\n",
        "#   \"requests<3\",\n",
        "#   \"rich\",\n",
        "# ]\n",
        "# ///\n",
        "\n",
        "import requests\n",
        "import rich\n",
        "from rich.pretty import pprint\n",
        "\n",
        "\n",
        "import rich\n",
        "from importlib.metadata import version\n",
        "\n",
        "print('test.py is running')\n",
        "print('version is :')\n",
        "print(version('rich'))\n",
        "\n",
        "\n",
        "```\n",
        "\n",
        "## run .py with uv"
      ],
      "id": "ff98b191"
    },
    {
      "cell_type": "code",
      "metadata": {},
      "source": [
        "!uv run test.py"
      ],
      "id": "d33508a6",
      "execution_count": null,
      "outputs": []
    },
    {
      "cell_type": "markdown",
      "metadata": {},
      "source": [
        "# reference:\n",
        "\n",
        "https://github.com/astral-sh/uv"
      ],
      "id": "6648b433"
    }
  ],
  "metadata": {
    "kernelspec": {
      "name": "python3",
      "language": "python",
      "display_name": "Python 3 (ipykernel)",
      "path": "/Library/Frameworks/Python.framework/Versions/3.13/share/jupyter/kernels/python3"
    }
  },
  "nbformat": 4,
  "nbformat_minor": 5
}