{
  "cells": [
    {
      "cell_type": "markdown",
      "metadata": {},
      "source": [
        "---\n",
        "title: \"Version control for Python with uv\"\n",
        "author: \"Tony D\"\n",
        "execute:\n",
        "  warning: false\n",
        "  error: false\n",
        "\n",
        "  \n",
        "date: \"2025-03-14\"\n",
        "categories: \n",
        "  - Tool\n",
        "  - Python\n",
        "  \n",
        "image: \"images.png\"\n",
        "\n",
        "jupyter: python3\n",
        "---\n",
        "\n",
        "A comprehensive guide to using uv for Python project and package management. This document covers installation, project initialization, Python version management, and various package operations.\n",
        "\n",
        "This document provides a comprehensive guide to using `uv`, a fast and efficient tool for Python project and package management. It covers the entire workflow, from installation and project initialization to managing Python versions and handling package operations. The guide also demonstrates how to use `uv` to synchronize dependencies and even run scripts with specific package requirements. This is a valuable resource for any Python developer looking to streamline their development process.\n",
        "\n",
        "Introduces `uv` as a fast and comprehensive tool for Python project and package management. It covers `uv`'s installation, project initialization, Python version management, package operations, and dependency synchronization.\n",
        "\n",
        "-   🚀 A single tool to replace `pip`, `pip-tools`, `pipx`, `poetry`, `pyenv`, `twine`, `virtualenv`, and more.\n",
        "\n",
        "-   ⚡️ [10-100x faster](https://github.com/astral-sh/uv/blob/main/BENCHMARKS.md) than `pip`.\n",
        "\n",
        "-   🗂️ Provides [comprehensive project management](https://github.com/astral-sh/uv?tab=readme-ov-file#projects), with a [universal lockfile](https://docs.astral.sh/uv/concepts/projects/layout#the-lockfile).\n",
        "\n",
        "![](images/clipboard-203636132.png)\n",
        "\n",
        "# install"
      ],
      "id": "c03505f1"
    },
    {
      "cell_type": "code",
      "metadata": {},
      "source": [
        "#| eval: false\n",
        "!pip install uv"
      ],
      "id": "f4c71404",
      "execution_count": null,
      "outputs": []
    },
    {
      "cell_type": "markdown",
      "metadata": {},
      "source": [
        "# create project in current folder"
      ],
      "id": "25e19ad4"
    },
    {
      "cell_type": "code",
      "metadata": {},
      "source": [
        "#| eval: false\n",
        "!uv init"
      ],
      "id": "3d1649b7",
      "execution_count": null,
      "outputs": []
    },
    {
      "cell_type": "markdown",
      "metadata": {},
      "source": [
        "# show download python version\n",
        "\n",
        "\n",
        "# chose python version"
      ],
      "id": "de793906"
    },
    {
      "cell_type": "code",
      "metadata": {},
      "source": [
        "#| eval: false\n",
        "!uv python pin 3.13"
      ],
      "id": "46c45e6c",
      "execution_count": null,
      "outputs": []
    },
    {
      "cell_type": "markdown",
      "metadata": {},
      "source": [
        "# show all python include non download version "
      ],
      "id": "f0a538e7"
    },
    {
      "cell_type": "code",
      "metadata": {},
      "source": [
        "!uv python list"
      ],
      "id": "8fb8c14e",
      "execution_count": null,
      "outputs": []
    },
    {
      "cell_type": "markdown",
      "metadata": {},
      "source": [
        "# download python version if not download"
      ],
      "id": "97fbf493"
    },
    {
      "cell_type": "code",
      "metadata": {},
      "source": [
        "#| eval: false\n",
        "!uv python install cpython-3.14.0"
      ],
      "id": "7c408c48",
      "execution_count": null,
      "outputs": []
    },
    {
      "cell_type": "markdown",
      "metadata": {},
      "source": [
        "# install pacakge"
      ],
      "id": "b2f9624b"
    },
    {
      "cell_type": "code",
      "metadata": {},
      "source": [
        "#| eval: false\n",
        "!uv add siuba"
      ],
      "id": "065118b5",
      "execution_count": null,
      "outputs": []
    },
    {
      "cell_type": "markdown",
      "metadata": {},
      "source": [
        "# show pacakge"
      ],
      "id": "7bfe8f88"
    },
    {
      "cell_type": "code",
      "metadata": {},
      "source": [
        "#| eval: false\n",
        "!uv tree"
      ],
      "id": "c57a4ccf",
      "execution_count": null,
      "outputs": []
    },
    {
      "cell_type": "markdown",
      "metadata": {},
      "source": [
        "# delete pacakge"
      ],
      "id": "8ee656ea"
    },
    {
      "cell_type": "code",
      "metadata": {},
      "source": [
        "#| eval: false\n",
        "!uv remove rich"
      ],
      "id": "d629d224",
      "execution_count": null,
      "outputs": []
    },
    {
      "cell_type": "markdown",
      "metadata": {},
      "source": [
        "# update lock file"
      ],
      "id": "fc2e3430"
    },
    {
      "cell_type": "code",
      "metadata": {},
      "source": [
        "#| eval: false\n",
        "!uv lock --upgrade"
      ],
      "id": "2c969f68",
      "execution_count": null,
      "outputs": []
    },
    {
      "cell_type": "markdown",
      "metadata": {},
      "source": [
        "# Locking requirements"
      ],
      "id": "618a65d9"
    },
    {
      "cell_type": "code",
      "metadata": {},
      "source": [
        "#| eval: false\n",
        "uv pip compile pyproject.toml -o requirements.txt"
      ],
      "id": "5fa49af0",
      "execution_count": null,
      "outputs": []
    },
    {
      "cell_type": "markdown",
      "metadata": {},
      "source": [
        "# check lock file and current environment"
      ],
      "id": "ae5710a8"
    },
    {
      "cell_type": "code",
      "metadata": {},
      "source": [
        "#| eval: false\n",
        "!uv lock --check"
      ],
      "id": "8bfedfe8",
      "execution_count": null,
      "outputs": []
    },
    {
      "cell_type": "markdown",
      "metadata": {},
      "source": [
        "# Sync the project's dependencies with the environment,it will add packages to the environment from toml file."
      ],
      "id": "52fee876"
    },
    {
      "cell_type": "code",
      "metadata": {},
      "source": [
        "#| eval: false\n",
        "!uv sync"
      ],
      "id": "55aea5df",
      "execution_count": null,
      "outputs": []
    },
    {
      "cell_type": "markdown",
      "metadata": {},
      "source": [
        "# using uv with script header\n",
        "\n",
        "\n",
        "## there is no rich package in python"
      ],
      "id": "95acc345"
    },
    {
      "cell_type": "code",
      "metadata": {},
      "source": [
        "#| eval: false\n",
        "try:\n",
        "    import rich\n",
        "    print('pacakge installed')\n",
        "except ImportError as e:\n",
        "    print('pacakge not installed')\n",
        "    pass  # module doesn't exist, deal with it."
      ],
      "id": "b4834c0f",
      "execution_count": null,
      "outputs": []
    },
    {
      "cell_type": "markdown",
      "metadata": {},
      "source": [
        "## but can add rich package in script\n",
        "\n",
        "```{.python file.name='test.py'}\n",
        "#| eval: false\n",
        "\n",
        "# /// script\n",
        "# requires-python = \">=3.12\"\n",
        "# dependencies = [\n",
        "#   \"requests<3\",\n",
        "#   \"rich\",\n",
        "# ]\n",
        "# ///\n",
        "\n",
        "import requests\n",
        "import rich\n",
        "from rich.pretty import pprint\n",
        "\n",
        "\n",
        "import rich\n",
        "from importlib.metadata import version\n",
        "\n",
        "print('test.py is running')\n",
        "print('version is :')\n",
        "print(version('rich'))\n",
        "\n",
        "\n",
        "```\n",
        "\n",
        "## run .py with uv"
      ],
      "id": "09074b33"
    },
    {
      "cell_type": "code",
      "metadata": {},
      "source": [
        "!uv run test.py"
      ],
      "id": "add3e57b",
      "execution_count": null,
      "outputs": []
    },
    {
      "cell_type": "markdown",
      "metadata": {},
      "source": [
        "# reference:\n",
        "\n",
        "https://github.com/astral-sh/uv"
      ],
      "id": "dff47803"
    }
  ],
  "metadata": {
    "kernelspec": {
      "name": "python3",
      "language": "python",
      "display_name": "Python 3 (ipykernel)",
      "path": "/Library/Frameworks/Python.framework/Versions/3.13/share/jupyter/kernels/python3"
    }
  },
  "nbformat": 4,
  "nbformat_minor": 5
}