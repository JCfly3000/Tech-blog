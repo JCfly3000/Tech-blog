{
  "cells": [
    {
      "cell_type": "markdown",
      "metadata": {},
      "source": [
        "---\n",
        "title: \"Version control for Python with uv\"\n",
        "\n",
        "author: \"Tony D\"\n",
        "execute:\n",
        "  warning: false\n",
        "  error: false\n",
        "\n",
        "  \n",
        "date: \"2025-03-14\"\n",
        "categories: \n",
        "  - Tool\n",
        "  - Python\n",
        "  \n",
        "image: \"images.png\"\n",
        "\n",
        "jupyter: python3\n",
        "---\n",
        "\n",
        "-   🚀 A single tool to replace `pip`, `pip-tools`, `pipx`, `poetry`, `pyenv`, `twine`, `virtualenv`, and more.\n",
        "\n",
        "-   ⚡️ [10-100x faster](https://github.com/astral-sh/uv/blob/main/BENCHMARKS.md) than `pip`.\n",
        "\n",
        "-   🗂️ Provides [comprehensive project management](https://github.com/astral-sh/uv?tab=readme-ov-file#projects), with a [universal lockfile](https://docs.astral.sh/uv/concepts/projects/layout#the-lockfile).\n",
        "\n",
        "![](images/clipboard-203636132.png)\n",
        "\n",
        "# install"
      ],
      "id": "591ef619"
    },
    {
      "cell_type": "code",
      "metadata": {},
      "source": [
        "#| eval: false\n",
        "!pip install uv"
      ],
      "id": "92847672",
      "execution_count": null,
      "outputs": []
    },
    {
      "cell_type": "markdown",
      "metadata": {},
      "source": [
        "# create project in current folder"
      ],
      "id": "aac19e79"
    },
    {
      "cell_type": "code",
      "metadata": {},
      "source": [
        "#| eval: false\n",
        "!uv init"
      ],
      "id": "e988d9fc",
      "execution_count": null,
      "outputs": []
    },
    {
      "cell_type": "markdown",
      "metadata": {},
      "source": [
        "# show python version"
      ],
      "id": "6a8593ac"
    },
    {
      "cell_type": "code",
      "metadata": {},
      "source": [
        "!uv python list --only-installed"
      ],
      "id": "5b0cb66a",
      "execution_count": null,
      "outputs": []
    },
    {
      "cell_type": "markdown",
      "metadata": {},
      "source": [
        "# chose python version"
      ],
      "id": "023baf96"
    },
    {
      "cell_type": "code",
      "metadata": {},
      "source": [
        "#| eval: false\n",
        "!uv python pin 3.13"
      ],
      "id": "3070d52d",
      "execution_count": null,
      "outputs": []
    },
    {
      "cell_type": "markdown",
      "metadata": {},
      "source": [
        "# install pacakge"
      ],
      "id": "8864ce9a"
    },
    {
      "cell_type": "code",
      "metadata": {},
      "source": [
        "#| eval: false\n",
        "!uv add siuba"
      ],
      "id": "e6b08b2e",
      "execution_count": null,
      "outputs": []
    },
    {
      "cell_type": "markdown",
      "metadata": {},
      "source": [
        "# show pacakge"
      ],
      "id": "a47610ab"
    },
    {
      "cell_type": "code",
      "metadata": {},
      "source": [
        "#| eval: false\n",
        "!uv tree"
      ],
      "id": "1c8c4783",
      "execution_count": null,
      "outputs": []
    },
    {
      "cell_type": "markdown",
      "metadata": {},
      "source": [
        "# delete pacakge"
      ],
      "id": "70a19508"
    },
    {
      "cell_type": "code",
      "metadata": {},
      "source": [
        "#| eval: false\n",
        "!uv remove rich"
      ],
      "id": "94247b7d",
      "execution_count": null,
      "outputs": []
    },
    {
      "cell_type": "markdown",
      "metadata": {},
      "source": [
        "# update lock file"
      ],
      "id": "a122ab3d"
    },
    {
      "cell_type": "code",
      "metadata": {},
      "source": [
        "#| eval: false\n",
        "!uv lock --upgrade"
      ],
      "id": "44055e46",
      "execution_count": null,
      "outputs": []
    },
    {
      "cell_type": "markdown",
      "metadata": {},
      "source": [
        "# Locking requirements"
      ],
      "id": "f2cccbad"
    },
    {
      "cell_type": "code",
      "metadata": {},
      "source": [
        "#| eval: false\n",
        "uv pip compile pyproject.toml -o requirements.txt"
      ],
      "id": "42d6378d",
      "execution_count": null,
      "outputs": []
    },
    {
      "cell_type": "markdown",
      "metadata": {},
      "source": [
        "# check lock file and current environment"
      ],
      "id": "fb0bc636"
    },
    {
      "cell_type": "code",
      "metadata": {},
      "source": [
        "#| eval: false\n",
        "!uv lock --check"
      ],
      "id": "65c68121",
      "execution_count": null,
      "outputs": []
    },
    {
      "cell_type": "markdown",
      "metadata": {},
      "source": [
        "# Sync the project's dependencies with the environment"
      ],
      "id": "2a9ca54a"
    },
    {
      "cell_type": "code",
      "metadata": {},
      "source": [
        "#| eval: false\n",
        "!uv sync"
      ],
      "id": "fa017cd9",
      "execution_count": null,
      "outputs": []
    },
    {
      "cell_type": "markdown",
      "metadata": {},
      "source": [
        "# using uv with script header\n",
        "\n",
        "## there is no rich package in python"
      ],
      "id": "7ffa9165"
    },
    {
      "cell_type": "code",
      "metadata": {},
      "source": [
        "#| eval: false\n",
        "try:\n",
        "    import rich\n",
        "    print('pacakge installed')\n",
        "except ImportError as e:\n",
        "    print('pacakge not installed')\n",
        "    pass  # module doesn't exist, deal with it."
      ],
      "id": "eaf62d3d",
      "execution_count": null,
      "outputs": []
    },
    {
      "cell_type": "markdown",
      "metadata": {},
      "source": [
        "## but can add rich package in script\n",
        "\n",
        "```{.python file.name='test.py'}\n",
        "#| eval: false\n",
        "\n",
        "# /// script\n",
        "# requires-python = \">=3.12\"\n",
        "# dependencies = [\n",
        "#   \"requests<3\",\n",
        "#   \"rich\",\n",
        "# ]\n",
        "# ///\n",
        "\n",
        "import requests\n",
        "import rich\n",
        "from rich.pretty import pprint\n",
        "\n",
        "\n",
        "import rich\n",
        "from importlib.metadata import version\n",
        "\n",
        "print('test.py is running')\n",
        "print('version is :')\n",
        "print(version('rich'))\n",
        "\n",
        "\n",
        "```\n",
        "\n",
        "## run .py with uv"
      ],
      "id": "8e463dbf"
    },
    {
      "cell_type": "code",
      "metadata": {},
      "source": [
        "!uv run test.py"
      ],
      "id": "cff1f396",
      "execution_count": null,
      "outputs": []
    },
    {
      "cell_type": "markdown",
      "metadata": {},
      "source": [
        "# reference:\n",
        "\n",
        "https://github.com/astral-sh/uv"
      ],
      "id": "8aea1d94"
    }
  ],
  "metadata": {
    "kernelspec": {
      "name": "python3",
      "language": "python",
      "display_name": "Python 3 (ipykernel)",
      "path": "/Library/Frameworks/Python.framework/Versions/3.13/share/jupyter/kernels/python3"
    }
  },
  "nbformat": 4,
  "nbformat_minor": 5
}