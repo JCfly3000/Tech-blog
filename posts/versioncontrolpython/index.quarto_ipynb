{
  "cells": [
    {
      "cell_type": "markdown",
      "metadata": {},
      "source": [
        "---\n",
        "title: \"Version control for Python with uv\"\n",
        "\n",
        "author: \"Tony D\"\n",
        "execute:\n",
        "  warning: false\n",
        "  error: false\n",
        "\n",
        "  \n",
        "date: \"2025-03-14\"\n",
        "categories: \n",
        "  - Tool\n",
        "  - Python\n",
        "  \n",
        "image: \"images.png\"\n",
        "\n",
        "jupyter: python3\n",
        "---\n",
        "\n",
        "-   🚀 A single tool to replace `pip`, `pip-tools`, `pipx`, `poetry`, `pyenv`, `twine`, `virtualenv`, and more.\n",
        "\n",
        "-   ⚡️ [10-100x faster](https://github.com/astral-sh/uv/blob/main/BENCHMARKS.md) than `pip`.\n",
        "\n",
        "-   🗂️ Provides [comprehensive project management](https://github.com/astral-sh/uv?tab=readme-ov-file#projects), with a [universal lockfile](https://docs.astral.sh/uv/concepts/projects/layout#the-lockfile).\n",
        "\n",
        "![](images/clipboard-203636132.png)\n",
        "\n",
        "# install"
      ],
      "id": "fba85b9c"
    },
    {
      "cell_type": "code",
      "metadata": {},
      "source": [
        "#| eval: false\n",
        "!pip install uv"
      ],
      "id": "a550434b",
      "execution_count": null,
      "outputs": []
    },
    {
      "cell_type": "markdown",
      "metadata": {},
      "source": [
        "# create project in current folder"
      ],
      "id": "796ebaed"
    },
    {
      "cell_type": "code",
      "metadata": {},
      "source": [
        "#| eval: false\n",
        "!uv init"
      ],
      "id": "3c1b3067",
      "execution_count": null,
      "outputs": []
    },
    {
      "cell_type": "markdown",
      "metadata": {},
      "source": [
        "# show python version"
      ],
      "id": "c42b3c4d"
    },
    {
      "cell_type": "code",
      "metadata": {},
      "source": [
        "!uv python list --only-installed"
      ],
      "id": "52e632e1",
      "execution_count": null,
      "outputs": []
    },
    {
      "cell_type": "markdown",
      "metadata": {},
      "source": [
        "# chose python version"
      ],
      "id": "d7068f25"
    },
    {
      "cell_type": "code",
      "metadata": {},
      "source": [
        "#| eval: false\n",
        "!uv python pin 3.13"
      ],
      "id": "f674977b",
      "execution_count": null,
      "outputs": []
    },
    {
      "cell_type": "markdown",
      "metadata": {},
      "source": [
        "# install pacakge"
      ],
      "id": "2bdcef90"
    },
    {
      "cell_type": "code",
      "metadata": {},
      "source": [
        "#| eval: false\n",
        "!uv add siuba"
      ],
      "id": "43748925",
      "execution_count": null,
      "outputs": []
    },
    {
      "cell_type": "markdown",
      "metadata": {},
      "source": [
        "# show pacakge"
      ],
      "id": "6bb4d096"
    },
    {
      "cell_type": "code",
      "metadata": {},
      "source": [
        "#| eval: false\n",
        "!uv tree"
      ],
      "id": "f30fe215",
      "execution_count": null,
      "outputs": []
    },
    {
      "cell_type": "markdown",
      "metadata": {},
      "source": [
        "# delete pacakge"
      ],
      "id": "c309514b"
    },
    {
      "cell_type": "code",
      "metadata": {},
      "source": [
        "#| eval: false\n",
        "!uv remove rich"
      ],
      "id": "7041a921",
      "execution_count": null,
      "outputs": []
    },
    {
      "cell_type": "markdown",
      "metadata": {},
      "source": [
        "# update lock file"
      ],
      "id": "7c8b12f7"
    },
    {
      "cell_type": "code",
      "metadata": {},
      "source": [
        "#| eval: false\n",
        "!uv lock --upgrade"
      ],
      "id": "240de784",
      "execution_count": null,
      "outputs": []
    },
    {
      "cell_type": "markdown",
      "metadata": {},
      "source": [
        "# Locking requirements"
      ],
      "id": "d6fc6bbb"
    },
    {
      "cell_type": "code",
      "metadata": {},
      "source": [
        "#| eval: false\n",
        "uv pip compile pyproject.toml -o requirements.txt"
      ],
      "id": "404d8c25",
      "execution_count": null,
      "outputs": []
    },
    {
      "cell_type": "markdown",
      "metadata": {},
      "source": [
        "# check lock file and current environment"
      ],
      "id": "678234cd"
    },
    {
      "cell_type": "code",
      "metadata": {},
      "source": [
        "#| eval: false\n",
        "!uv lock --check"
      ],
      "id": "d2e2af9a",
      "execution_count": null,
      "outputs": []
    },
    {
      "cell_type": "markdown",
      "metadata": {},
      "source": [
        "# Sync the project's dependencies with the environment"
      ],
      "id": "546a6876"
    },
    {
      "cell_type": "code",
      "metadata": {},
      "source": [
        "#| eval: false\n",
        "!uv sync"
      ],
      "id": "3b40a996",
      "execution_count": null,
      "outputs": []
    },
    {
      "cell_type": "markdown",
      "metadata": {},
      "source": [
        "# using uv with script header\n",
        "\n",
        "## there is no rich package in python"
      ],
      "id": "b95e6d15"
    },
    {
      "cell_type": "code",
      "metadata": {},
      "source": [
        "#| eval: false\n",
        "try:\n",
        "    import rich\n",
        "    print('pacakge installed')\n",
        "except ImportError as e:\n",
        "    print('pacakge not installed')\n",
        "    pass  # module doesn't exist, deal with it."
      ],
      "id": "c90b8c00",
      "execution_count": null,
      "outputs": []
    },
    {
      "cell_type": "markdown",
      "metadata": {},
      "source": [
        "## but can add rich package in script\n",
        "\n",
        "```{.python file.name='test.py'}\n",
        "#| eval: false\n",
        "\n",
        "# /// script\n",
        "# requires-python = \">=3.12\"\n",
        "# dependencies = [\n",
        "#   \"requests<3\",\n",
        "#   \"rich\",\n",
        "# ]\n",
        "# ///\n",
        "\n",
        "import requests\n",
        "import rich\n",
        "from rich.pretty import pprint\n",
        "\n",
        "\n",
        "import rich\n",
        "from importlib.metadata import version\n",
        "\n",
        "print('test.py is running')\n",
        "print('version is :')\n",
        "print(version('rich'))\n",
        "\n",
        "\n",
        "```\n",
        "\n",
        "## run .py with uv"
      ],
      "id": "ca1d8f41"
    },
    {
      "cell_type": "code",
      "metadata": {},
      "source": [
        "!uv run test.py"
      ],
      "id": "5cd946bc",
      "execution_count": null,
      "outputs": []
    },
    {
      "cell_type": "markdown",
      "metadata": {},
      "source": [
        "# reference:\n",
        "\n",
        "https://github.com/astral-sh/uv"
      ],
      "id": "932145a8"
    }
  ],
  "metadata": {
    "kernelspec": {
      "name": "python3",
      "language": "python",
      "display_name": "Python 3 (ipykernel)",
      "path": "/Library/Frameworks/Python.framework/Versions/3.13/share/jupyter/kernels/python3"
    }
  },
  "nbformat": 4,
  "nbformat_minor": 5
}