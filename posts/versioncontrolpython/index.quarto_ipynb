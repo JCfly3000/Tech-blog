{
  "cells": [
    {
      "cell_type": "markdown",
      "metadata": {},
      "source": [
        "---\n",
        "title: \"Version control for Python with uv\"\n",
        "author: \"Tony D\"\n",
        "execute:\n",
        "  warning: false\n",
        "  error: false\n",
        "\n",
        "  \n",
        "date: \"2025-03-14\"\n",
        "categories: \n",
        "  - Tool\n",
        "  - Python\n",
        "  \n",
        "image: \"images.png\"\n",
        "\n",
        "jupyter: python3\n",
        "---\n",
        "\n",
        "A comprehensive guide to using uv for Python project and package management. This document covers installation, project initialization, Python version management, and various package operations.\n",
        "\n",
        "This document provides a comprehensive guide to using `uv`, a fast and efficient tool for Python project and package management. It covers the entire workflow, from installation and project initialization to managing Python versions and handling package operations. The guide also demonstrates how to use `uv` to synchronize dependencies and even run scripts with specific package requirements. This is a valuable resource for any Python developer looking to streamline their development process.\n",
        "\n",
        "Introduces `uv` as a fast and comprehensive tool for Python project and package management. It covers `uv`'s installation, project initialization, Python version management, package operations, and dependency synchronization.\n",
        "\n",
        "-   🚀 A single tool to replace `pip`, `pip-tools`, `pipx`, `poetry`, `pyenv`, `twine`, `virtualenv`, and more.\n",
        "\n",
        "-   ⚡️ [10-100x faster](https://github.com/astral-sh/uv/blob/main/BENCHMARKS.md) than `pip`.\n",
        "\n",
        "-   🗂️ Provides [comprehensive project management](https://github.com/astral-sh/uv?tab=readme-ov-file#projects), with a [universal lockfile](https://docs.astral.sh/uv/concepts/projects/layout#the-lockfile).\n",
        "\n",
        "![](images/clipboard-203636132.png)\n",
        "\n",
        "# install"
      ],
      "id": "a6a820a9"
    },
    {
      "cell_type": "code",
      "metadata": {},
      "source": [
        "#| eval: false\n",
        "!pip install uv"
      ],
      "id": "5a844501",
      "execution_count": null,
      "outputs": []
    },
    {
      "cell_type": "markdown",
      "metadata": {},
      "source": [
        "# create project in current folder"
      ],
      "id": "b52ce05b"
    },
    {
      "cell_type": "code",
      "metadata": {},
      "source": [
        "#| eval: false\n",
        "!uv init"
      ],
      "id": "8a47524d",
      "execution_count": null,
      "outputs": []
    },
    {
      "cell_type": "markdown",
      "metadata": {},
      "source": [
        "# show download python version\n",
        "\n",
        "\n",
        "# chose python version"
      ],
      "id": "bbf9174b"
    },
    {
      "cell_type": "code",
      "metadata": {},
      "source": [
        "#| eval: false\n",
        "!uv python pin 3.13"
      ],
      "id": "81274f27",
      "execution_count": null,
      "outputs": []
    },
    {
      "cell_type": "markdown",
      "metadata": {},
      "source": [
        "# show all python include non download version "
      ],
      "id": "75492365"
    },
    {
      "cell_type": "code",
      "metadata": {},
      "source": [
        "!uv python list"
      ],
      "id": "d3d1cd32",
      "execution_count": null,
      "outputs": []
    },
    {
      "cell_type": "markdown",
      "metadata": {},
      "source": [
        "# download python version if not download"
      ],
      "id": "514a0af9"
    },
    {
      "cell_type": "code",
      "metadata": {},
      "source": [
        "#| eval: false\n",
        "!uv python install cpython-3.14.0"
      ],
      "id": "7d61b123",
      "execution_count": null,
      "outputs": []
    },
    {
      "cell_type": "markdown",
      "metadata": {},
      "source": [
        "# install pacakge"
      ],
      "id": "52b0d267"
    },
    {
      "cell_type": "code",
      "metadata": {},
      "source": [
        "#| eval: false\n",
        "!uv add siuba"
      ],
      "id": "ff11d4c5",
      "execution_count": null,
      "outputs": []
    },
    {
      "cell_type": "markdown",
      "metadata": {},
      "source": [
        "# show pacakge"
      ],
      "id": "58f7c6b9"
    },
    {
      "cell_type": "code",
      "metadata": {},
      "source": [
        "#| eval: false\n",
        "!uv tree"
      ],
      "id": "de91372d",
      "execution_count": null,
      "outputs": []
    },
    {
      "cell_type": "markdown",
      "metadata": {},
      "source": [
        "# delete pacakge"
      ],
      "id": "cad1c11e"
    },
    {
      "cell_type": "code",
      "metadata": {},
      "source": [
        "#| eval: false\n",
        "!uv remove rich"
      ],
      "id": "79678944",
      "execution_count": null,
      "outputs": []
    },
    {
      "cell_type": "markdown",
      "metadata": {},
      "source": [
        "# update lock file"
      ],
      "id": "37286496"
    },
    {
      "cell_type": "code",
      "metadata": {},
      "source": [
        "#| eval: false\n",
        "!uv lock --upgrade"
      ],
      "id": "fa61f400",
      "execution_count": null,
      "outputs": []
    },
    {
      "cell_type": "markdown",
      "metadata": {},
      "source": [
        "# Locking requirements"
      ],
      "id": "a386e956"
    },
    {
      "cell_type": "code",
      "metadata": {},
      "source": [
        "#| eval: false\n",
        "uv pip compile pyproject.toml -o requirements.txt"
      ],
      "id": "5770a820",
      "execution_count": null,
      "outputs": []
    },
    {
      "cell_type": "markdown",
      "metadata": {},
      "source": [
        "# check lock file and current environment"
      ],
      "id": "fe2710c8"
    },
    {
      "cell_type": "code",
      "metadata": {},
      "source": [
        "#| eval: false\n",
        "!uv lock --check"
      ],
      "id": "9d066077",
      "execution_count": null,
      "outputs": []
    },
    {
      "cell_type": "markdown",
      "metadata": {},
      "source": [
        "# Sync the project's dependencies with the environment,it will add packages to the environment from toml file."
      ],
      "id": "93b260fb"
    },
    {
      "cell_type": "code",
      "metadata": {},
      "source": [
        "#| eval: false\n",
        "!uv sync"
      ],
      "id": "78942d01",
      "execution_count": null,
      "outputs": []
    },
    {
      "cell_type": "markdown",
      "metadata": {},
      "source": [
        "# using uv with script header\n",
        "\n",
        "\n",
        "## there is no rich package in python"
      ],
      "id": "311311e0"
    },
    {
      "cell_type": "code",
      "metadata": {},
      "source": [
        "#| eval: false\n",
        "try:\n",
        "    import rich\n",
        "    print('pacakge installed')\n",
        "except ImportError as e:\n",
        "    print('pacakge not installed')\n",
        "    pass  # module doesn't exist, deal with it."
      ],
      "id": "764058eb",
      "execution_count": null,
      "outputs": []
    },
    {
      "cell_type": "markdown",
      "metadata": {},
      "source": [
        "## but can add rich package in script\n",
        "\n",
        "```{.python file.name='test.py'}\n",
        "#| eval: false\n",
        "\n",
        "# /// script\n",
        "# requires-python = \">=3.12\"\n",
        "# dependencies = [\n",
        "#   \"requests<3\",\n",
        "#   \"rich\",\n",
        "# ]\n",
        "# ///\n",
        "\n",
        "import requests\n",
        "import rich\n",
        "from rich.pretty import pprint\n",
        "\n",
        "\n",
        "import rich\n",
        "from importlib.metadata import version\n",
        "\n",
        "print('test.py is running')\n",
        "print('version is :')\n",
        "print(version('rich'))\n",
        "\n",
        "\n",
        "```\n",
        "\n",
        "## run .py with uv"
      ],
      "id": "0a963430"
    },
    {
      "cell_type": "code",
      "metadata": {},
      "source": [
        "!uv run test.py"
      ],
      "id": "9257488d",
      "execution_count": null,
      "outputs": []
    },
    {
      "cell_type": "markdown",
      "metadata": {},
      "source": [
        "# reference:\n",
        "\n",
        "https://github.com/astral-sh/uv"
      ],
      "id": "ce18e515"
    }
  ],
  "metadata": {
    "kernelspec": {
      "name": "python3",
      "language": "python",
      "display_name": "Python 3 (ipykernel)",
      "path": "/Library/Frameworks/Python.framework/Versions/3.13/share/jupyter/kernels/python3"
    }
  },
  "nbformat": 4,
  "nbformat_minor": 5
}